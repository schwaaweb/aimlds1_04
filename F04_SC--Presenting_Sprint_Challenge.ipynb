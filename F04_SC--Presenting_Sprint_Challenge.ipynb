{
  "nbformat": 4,
  "nbformat_minor": 0,
  "metadata": {
    "colab": {
      "name": "Presenting Sprint Challenge.ipynb",
      "version": "0.3.2",
      "provenance": [],
      "collapsed_sections": []
    },
    "kernelspec": {
      "name": "python3",
      "display_name": "Python 3"
    }
  },
  "cells": [
    {
      "cell_type": "markdown",
      "metadata": {
        "id": "view-in-github",
        "colab_type": "text"
      },
      "source": [
        "[View in Colaboratory](https://colab.research.google.com/github/schwaaweb/aimlds1_04/blob/master/F04_SC--Presenting_Sprint_Challenge.ipynb)"
      ]
    },
    {
      "metadata": {
        "id": "IBIsn_JgF86J",
        "colab_type": "text"
      },
      "cell_type": "markdown",
      "source": [
        "# Presenting Sprint Challenge\n",
        "\n",
        "Fill out and upload the following snippet to your netlify account.\n",
        "\n",
        "1. Create a file in your recently-created Github account named presentation_data.json\n",
        "2. Copy the below snippet into presentation_data.json\n",
        "3. Fill out the strings so that presentation_data.json is complete\n",
        "4. Use http://json.parser.online.fr/ to validate that your snippet is valid json\n",
        "5. Add presentation_data.json to your repository\n",
        "6. Commit the new file to your repository\n",
        "7. Push the file to your remote repository at Github\n",
        "   (there's nothing new in the above items, do it like you learned it)\n",
        "8. Verify after a short time that the file now appears at https://your-subdomain.netlify.com/presentation_data.json\n",
        "9. Send the following email to mlsubmissions@gmail.com\n",
        "\n",
        "```\n",
        "Subject: Presenting Sprint Challenge\n",
        "Body:\n",
        "<your-subdomain.netlify.com>\n",
        "Your Name\n",
        "```\n",
        "\n",
        "For the `\"latex\"` key, put valid LaTeX math markup for the following image:\n",
        "\n",
        "![LaTeX Quiz](https://www.dropbox.com/s/2f0y0ue5vymtm2o/Presentation_Sprint_Challenge_Math.png?raw=1)\n",
        "### WARNING\n",
        "The `JSON` format reserves a few special characters. `\\e` and `\\c` are two of them. Ensure that `\\e` and `\\c` are escaped to `\\\\e` and `\\\\c` in order to be valid `JSON`."
      ]
    },
    {
      "metadata": {
        "id": "cAQkJwf4Lsgt",
        "colab_type": "text"
      },
      "cell_type": "markdown",
      "source": [
        "    {\n",
        "        \"name\": \"<YOUR NAME>\",\n",
        "        \"netlify_subdomain\": \"<YOUR NETLIFY URL>\",\n",
        "        \"optional_dns\": \"<YOUR CUSTOM DOMAIN NAME IF YOU HAVE ONE OR PLAN TO USE ONE>\"\n",
        "        \"blog_post_1\": {\n",
        "            \"title\": \"<TITLE1>\",\n",
        "            \"url\": \"<MEDIUM OR WEB URL>\",\n",
        "            \"keywords\": [\"<KWD1>\",\"<KWD2>\",\"<KWD3>\"]\n",
        "        },\n",
        "        \"blog_post_2\": {\n",
        "            \"title\": \"<TITLE2>\",\n",
        "            \"url\": \"<MEDIUM OR WEB URL>\",\n",
        "            \"keywords\": [\"<KWD1>\",\"<KWD2>\",\"<KWD3>\"]\n",
        "        },\n",
        "        \"blog_post_3\": {\n",
        "            \"title\": \"<TITLE3>\",\n",
        "            \"url\": \"<MEDIUM OR WEB URL>\",\n",
        "            \"keywords\": [\"<KWD1>\",\"<KWD2>\",\"<KWD3>\"]\n",
        "        },\n",
        "        \"my_linkedin\": \"<URL TO LINKEDIN>\",\n",
        "        \"latex\": \"<YOUR LATEX (REMEMBER VALID JSON)>\"\n",
        "    }"
      ]
    }
  ]
}